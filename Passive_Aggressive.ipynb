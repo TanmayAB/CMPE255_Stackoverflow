{
 "cells": [
  {
   "cell_type": "code",
   "execution_count": 17,
   "metadata": {
    "collapsed": true
   },
   "outputs": [],
   "source": [
    "import re\n",
    "import string\n",
    "import pandas as pd\n",
    "from math import fabs\n",
    "from sklearn.feature_extraction.text import CountVectorizer\n",
    "from sklearn.model_selection import train_test_split\n",
    "from nltk.corpus import stopwords\n",
    "from sklearn.linear_model import LogisticRegression,LinearRegression,PassiveAggressiveRegressor\n",
    "from sklearn.linear_model import Lasso\n",
    "from sklearn.tree import DecisionTreeRegressor\n",
    "from sklearn.neighbors import KNeighborsRegressor\n",
    "from nltk.stem.porter import PorterStemmer\n",
    "from scipy.sparse import hstack\n",
    "from sklearn.svm import SVR\n",
    "import numpy as np\n",
    "import nltk\n",
    "import matplotlib.pyplot as plt\n",
    "from sklearn.metrics import accuracy_score,mean_squared_log_error\n",
    "from sklearn.model_selection import KFold"
   ]
  },
  {
   "cell_type": "markdown",
   "metadata": {},
   "source": [
    "## Download NLTK libraries if you don't have those."
   ]
  },
  {
   "cell_type": "code",
   "execution_count": 2,
   "metadata": {
    "collapsed": true
   },
   "outputs": [],
   "source": [
    "#nltk.download()"
   ]
  },
  {
   "cell_type": "markdown",
   "metadata": {},
   "source": [
    "### Reading CSV in Pandas dataframe"
   ]
  },
  {
   "cell_type": "code",
   "execution_count": 3,
   "metadata": {
    "collapsed": true,
    "scrolled": true
   },
   "outputs": [],
   "source": [
    "raw_data = pd.read_csv('./Data/data.csv')"
   ]
  },
  {
   "cell_type": "markdown",
   "metadata": {},
   "source": [
    "# Preprocessing total data"
   ]
  },
  {
   "cell_type": "markdown",
   "metadata": {},
   "source": [
    "### Splitting Question titles"
   ]
  },
  {
   "cell_type": "code",
   "execution_count": 4,
   "metadata": {
    "collapsed": true
   },
   "outputs": [],
   "source": [
    "stop = set(stopwords.words('english'))\n",
    "#remove punctuations from a string and convert to lower case\n",
    "raw_data['questions_title'] = raw_data['questions_title'].apply(lambda x:''.join([i.lower() for i in x \n",
    "                                                  if i not in string.punctuation]))\n",
    "\n",
    "#remove stop words\n",
    "raw_data['questions_title'] = raw_data['questions_title'].apply(lambda x:' '.join([i for i in x.split(' ') \n",
    "                                                  if i not in stop]))\n",
    "\n",
    "#removing digits\n",
    "raw_data['questions_title'] = raw_data['questions_title'].apply(lambda x:' '.join([i.replace(r'[0-9]+','') for i in x.split(' ') ]))"
   ]
  },
  {
   "cell_type": "markdown",
   "metadata": {},
   "source": [
    "### Splitting Question Tags"
   ]
  },
  {
   "cell_type": "code",
   "execution_count": 5,
   "metadata": {
    "collapsed": true
   },
   "outputs": [],
   "source": [
    "#remove pipe and seperate tags\n",
    "raw_data['questions_tags'] = raw_data['questions_tags'].apply(lambda x:' '.join([i.lower() for i in x.split('|')]))"
   ]
  },
  {
   "cell_type": "markdown",
   "metadata": {},
   "source": [
    "## Vectorizing the data and performing stemming"
   ]
  },
  {
   "cell_type": "code",
   "execution_count": 6,
   "metadata": {
    "collapsed": true
   },
   "outputs": [],
   "source": [
    "stemmer = PorterStemmer()\n",
    "def stem_tokens(tokens, stemmer):\n",
    "    stemmed = []\n",
    "    for item in tokens:\n",
    "        stemmed.append(stemmer.stem(item))\n",
    "    return stemmed\n",
    "\n",
    "\n",
    "def tokenize(text):\n",
    "    # remove non letters\n",
    "    text = re.sub(\"[^a-zA-Z]\", \" \", text)\n",
    "    # tokenize\n",
    "    tokens = text.split()\n",
    "    # stem\n",
    "    stems = stem_tokens(tokens, stemmer)\n",
    "    return stems\n",
    "\n",
    "vectorizer = CountVectorizer(\n",
    "    analyzer='word',\n",
    "    tokenizer=tokenize,\n",
    "    lowercase=True,\n",
    "    stop_words='english'\n",
    ")\n",
    "train_x_que_tag = vectorizer.fit_transform(raw_data.questions_tags)\n",
    "train_x_que_title = vectorizer.fit_transform(raw_data.questions_title)\n",
    "train_y = raw_data['time'].tolist()"
   ]
  },
  {
   "cell_type": "code",
   "execution_count": 7,
   "metadata": {},
   "outputs": [
    {
     "name": "stdout",
     "output_type": "stream",
     "text": [
      "(99999, 10660)\n",
      "(99999, 32219)\n"
     ]
    }
   ],
   "source": [
    "print train_x_que_tag.shape\n",
    "print train_x_que_title.shape"
   ]
  },
  {
   "cell_type": "markdown",
   "metadata": {},
   "source": [
    "### Combining Questions Tags and Question Titles feature vectors"
   ]
  },
  {
   "cell_type": "code",
   "execution_count": 8,
   "metadata": {
    "collapsed": true
   },
   "outputs": [],
   "source": [
    "train_x =  hstack((train_x_que_tag, train_x_que_title))"
   ]
  },
  {
   "cell_type": "code",
   "execution_count": 9,
   "metadata": {},
   "outputs": [
    {
     "name": "stdout",
     "output_type": "stream",
     "text": [
      "(99999, 42879)\n"
     ]
    }
   ],
   "source": [
    "print train_x.shape"
   ]
  },
  {
   "cell_type": "markdown",
   "metadata": {},
   "source": [
    "## Evaluation Metrics"
   ]
  },
  {
   "cell_type": "markdown",
   "metadata": {},
   "source": [
    "### Accuracy Score"
   ]
  },
  {
   "cell_type": "code",
   "execution_count": 10,
   "metadata": {
    "collapsed": true
   },
   "outputs": [],
   "source": [
    "def calc_accuracy(actual,predicted):\n",
    "    tc = 0\n",
    "    for ind in range(len(actual)):\n",
    "        if abs(fabs(actual[ind])-fabs(predicted[ind])) <= 36000:\n",
    "            tc = tc + 1\n",
    "    return float(tc)*100/len(actual)"
   ]
  },
  {
   "cell_type": "markdown",
   "metadata": {},
   "source": [
    "### Mean Squared Log Error"
   ]
  },
  {
   "cell_type": "code",
   "execution_count": 11,
   "metadata": {
    "collapsed": true
   },
   "outputs": [],
   "source": [
    "def calc_mean_squared_log_error(actual,predicted):\n",
    "    return mean_squared_log_error(actual,predicted)"
   ]
  },
  {
   "cell_type": "markdown",
   "metadata": {},
   "source": [
    "### Writing results to file"
   ]
  },
  {
   "cell_type": "code",
   "execution_count": 12,
   "metadata": {
    "collapsed": true
   },
   "outputs": [],
   "source": [
    "def writetofile(Y_test,result,i):\n",
    "    f = open(\"result\" + str(i+1),\"w\")\n",
    "    for j in range(0,len(Y_test)):\n",
    "        f.write(str(Y_test[j]) + \",\" + str(result[j]) + \"\\n\")\n",
    "    f.close()"
   ]
  },
  {
   "cell_type": "markdown",
   "metadata": {},
   "source": [
    "## PassiveAggressive Regression"
   ]
  },
  {
   "cell_type": "code",
   "execution_count": 13,
   "metadata": {
    "collapsed": true
   },
   "outputs": [],
   "source": [
    "def PA_regressor(X_train,Y_train,X_test):\n",
    "    passive_aggressive_regressor = PassiveAggressiveRegressor()\n",
    "    passive_aggressive_regressor.fit(X_train,Y_train)\n",
    "    prediction_result = passive_aggressive_regressor.predict(X_test)\n",
    "    return prediction_result"
   ]
  },
  {
   "cell_type": "code",
   "execution_count": 14,
   "metadata": {},
   "outputs": [
    {
     "name": "stderr",
     "output_type": "stream",
     "text": [
      "C:\\Users\\admin\\Anaconda2\\lib\\site-packages\\sklearn\\linear_model\\stochastic_gradient.py:128: FutureWarning: max_iter and tol parameters have been added in <class 'sklearn.linear_model.passive_aggressive.PassiveAggressiveRegressor'> in 0.19. If both are left unset, they default to max_iter=5 and tol=None. If tol is not None, max_iter defaults to max_iter=1000. From 0.21, default max_iter will be 1000, and default tol will be 1e-3.\n",
      "  \"and default tol will be 1e-3.\" % type(self), FutureWarning)\n"
     ]
    },
    {
     "name": "stdout",
     "output_type": "stream",
     "text": [
      "Accuracy is  [79.71, 79.63, 80.12, 80.09, 80.22, 79.94, 79.77, 80.22, 79.82, 79.5]\n",
      "Mean Squared Log Error is :  [7.8692382558596528, 7.9177926987985989, 8.0892367929850728, 7.9045356874794637, 7.8056672803009439, 7.7576525192706436, 8.006507342557736, 7.7067060212125549, 7.938423274455003, 8.0672984299104726]\n"
     ]
    }
   ],
   "source": [
    "accuracies = []\n",
    "msle = []\n",
    "for i in range(0,10):\n",
    "    X_train, X_test, Y_train, Y_test = train_test_split(train_x, train_y, test_size=10000)\n",
    "    result = PA_regressor(X_train,Y_train,X_test)\n",
    "    accuracies.append(calc_accuracy(Y_test,result))\n",
    "    msle.append(calc_mean_squared_log_error(Y_test,np.abs(result)))\n",
    "    #writetofile(Y_test,result,i)\n",
    "print \"Accuracy is \",\n",
    "print accuracies\n",
    "print \"Mean Squared Log Error is : \",\n",
    "print msle"
   ]
  },
  {
   "cell_type": "code",
   "execution_count": 15,
   "metadata": {},
   "outputs": [
    {
     "name": "stdout",
     "output_type": "stream",
     "text": [
      "Average Accuracy :  79.902\n",
      "Average Mean Squared Error :  7.90630583028\n"
     ]
    }
   ],
   "source": [
    "print \"Average Accuracy : \",\n",
    "print sum(accuracies)/len(accuracies)\n",
    "print \"Average Mean Squared Error : \",\n",
    "print sum(msle)/len(msle)"
   ]
  },
  {
   "cell_type": "markdown",
   "metadata": {},
   "source": [
    "### Plot 10 fold validation of accuracy and Mean Squared Log Error"
   ]
  },
  {
   "cell_type": "code",
   "execution_count": 18,
   "metadata": {},
   "outputs": [
    {
     "data": {
      "image/png": "[encoded data removed]",
      "text/plain": [
       "<matplotlib.figure.Figure at 0x1452e0b8>"
      ]
     },
     "metadata": {},
     "output_type": "display_data"
    },
    {
     "data": {
      "image/png": "[encoded data removed]",
      "text/plain": [
       "<matplotlib.figure.Figure at 0x14665d68>"
      ]
     },
     "metadata": {},
     "output_type": "display_data"
    }
   ],
   "source": [
    "x = [1,2,3,4,5,6,7,8,9,10]\n",
    "\n",
    "plt.bar(x,accuracies,align='center')\n",
    "plt.ylabel('Accuracy(10 hours)')\n",
    "plt.xlabel('10 folds')\n",
    "plt.show()\n",
    "\n",
    "plt.bar(x, msle, align = 'center')\n",
    "plt.ylabel('Mean squared log error')\n",
    "plt.xlabel('10 folds')\n",
    "plt.show()"
   ]
  }
 ],
 "metadata": {
  "kernelspec": {
   "display_name": "Python 2",
   "language": "python",
   "name": "python2"
  },
  "language_info": {
   "codemirror_mode": {
    "name": "ipython",
    "version": 2
   },
   "file_extension": ".py",
   "mimetype": "text/x-python",
   "name": "python",
   "nbconvert_exporter": "python",
   "pygments_lexer": "ipython2",
   "version": "2.7.14"
  }
 },
 "nbformat": 4,
 "nbformat_minor": 2
}
