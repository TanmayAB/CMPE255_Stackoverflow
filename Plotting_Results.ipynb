{
 "cells": [
  {
   "cell_type": "code",
   "execution_count": 78,
   "metadata": {},
   "outputs": [],
   "source": [
    "import matplotlib.pyplot as plt\n",
    "from math import fabs\n",
    "import pandas as pd\n",
    "from sklearn.metrics import f1_score,accuracy_score, mean_squared_error, mean_squared_log_error"
   ]
  },
  {
   "cell_type": "code",
   "execution_count": 88,
   "metadata": {
    "collapsed": true
   },
   "outputs": [],
   "source": [
    "def calc_accuracy(actual,predicted):\n",
    "    tc = 0\n",
    "    for ind in range(len(actual)):\n",
    "        if abs(fabs(actual[ind])-fabs(predicted[ind])) <= 36000:\n",
    "            tc = tc + 1\n",
    "    return float(tc)*100/len(actual)"
   ]
  },
  {
   "cell_type": "code",
   "execution_count": 92,
   "metadata": {},
   "outputs": [
    {
     "name": "stdout",
     "output_type": "stream",
     "text": [
      "Accuracy is  [77.7, 81.5, 80.9, 81.0, 79.8, 81.0, 80.1, 78.8, 78.1, 77.6]\n",
      "Mean Squared Log Error is :  [8.0710535941896815, 7.4088426853030578, 7.9022470301390664, 6.9552400089792101, 8.2774981882949898, 7.4725077543843943, 7.9398525852806232, 8.4685088537018185, 8.1316001667809577, 8.715659622217526]\n"
     ]
    }
   ],
   "source": [
    "accuracies = []\n",
    "msle = []\n",
    "for i in range(10) :\n",
    "    raw_data = pd.read_csv('./LinearResults/result'+str(i+1)+'.dat')\n",
    "    calc = calc_accuracy(raw_data.actual,raw_data.predicted)\n",
    "    mean_squared_log_error (raw_data.actual,raw_data.actual)    \n",
    "    msle.append(mean_squared_log_error (raw_data.actual,raw_data.predicted.abs()))\n",
    "    accuracies.append (calc)\n",
    "print \"Accuracy is \",\n",
    "print accuracies\n",
    "print \"Mean Squared Log Error is : \",\n",
    "print msle"
   ]
  },
  {
   "cell_type": "code",
   "execution_count": 93,
   "metadata": {},
   "outputs": [
    {
     "data": {
      "image/png": "[encoded data removed]",
      "text/plain": [
       "<matplotlib.figure.Figure at 0x9d26d30>"
      ]
     },
     "metadata": {},
     "output_type": "display_data"
    },
    {
     "data": {
      "image/png": "[encoded data removed]",
      "text/plain": [
       "<matplotlib.figure.Figure at 0xd47cd30>"
      ]
     },
     "metadata": {},
     "output_type": "display_data"
    }
   ],
   "source": [
    "x = [1,2,3,4,5,6,7,8,9,10]\n",
    "\n",
    "plt.bar(x,accuracies,align='center')\n",
    "plt.ylabel('Accuracy(10 hours)')\n",
    "plt.xlabel('10 folds')\n",
    "plt.show()\n",
    "\n",
    "plt.bar(x, msle, align = 'center')\n",
    "plt.ylabel('Mean squared log error')\n",
    "plt.xlabel('10 folds')\n",
    "plt.show()"
   ]
  },
  {
   "cell_type": "code",
   "execution_count": 96,
   "metadata": {},
   "outputs": [
    {
     "name": "stdout",
     "output_type": "stream",
     "text": [
      "Average Accuracy :  75.1166666667\n",
      "Average Mean Squared Error :  7.93430104893\n"
     ]
    }
   ],
   "source": [
    "print \"Average Accuracy : \",\n",
    "print sum(accuracy)/len(accuracy)\n",
    "print \"Average Mean Squared Error : \",\n",
    "print sum(msle)/len(msle)"
   ]
  },
  {
   "cell_type": "code",
   "execution_count": 97,
   "metadata": {},
   "outputs": [
    {
     "data": {
      "image/png": "[encoded data removed]",
      "text/plain": [
       "<matplotlib.figure.Figure at 0xe7afd68>"
      ]
     },
     "metadata": {},
     "output_type": "display_data"
    }
   ],
   "source": [
    "import numpy as np\n",
    "import matplotlib.pyplot as plt\n",
    " \n",
    "# data to plot\n",
    "n_groups = 3\n",
    "\n",
    "#Individual obtained accuracy and mean squared log errors values of KNN, SVR and PassiveAggressive regression respectively and used below for generating a graph\n",
    "accuracy = (65.2, 79.65, 80.50)\n",
    "mean_squared_log_error = (6.55, 7.93, 6.99)\n",
    "\n",
    "\n",
    "# create plot\n",
    "fig, ax = plt.subplots(figsize=(9,6))\n",
    "index = np.arange(n_groups)\n",
    "bar_width = 0.15\n",
    "opacity = 0.8\n",
    " \n",
    "rects1 = plt.bar(index, accuracy, bar_width,\n",
    "                 alpha=opacity,\n",
    "                 color='b',\n",
    "                 label='Accuracy')\n",
    "\n",
    "\n",
    "rects2 = plt.bar(index + bar_width, mean_squarederror, bar_width,\n",
    "                 alpha=opacity,\n",
    "                 color='y',\n",
    "                 label='Mean-squared-log-error')\n",
    "\n",
    "plt.xlabel('Parameters')\n",
    "plt.ylabel('Percentage')\n",
    "plt.title('Performance Graph')\n",
    "plt.xticks(index + bar_width, ('KNN Regressor', 'Linear SVR', 'Passive Aggressive Regressor'))\n",
    "plt.legend(loc = 'upper right')\n",
    " \n",
    "plt.tight_layout()\n",
    "plt.show()"
   ]
  },
  {
   "cell_type": "code",
   "execution_count": null,
   "metadata": {
    "collapsed": true
   },
   "outputs": [],
   "source": []
  }
 ],
 "metadata": {
  "kernelspec": {
   "display_name": "Python 2",
   "language": "python",
   "name": "python2"
  },
  "language_info": {
   "codemirror_mode": {
    "name": "ipython",
    "version": 2
   },
   "file_extension": ".py",
   "mimetype": "text/x-python",
   "name": "python",
   "nbconvert_exporter": "python",
   "pygments_lexer": "ipython2",
   "version": "2.7.14"
  }
 },
 "nbformat": 4,
 "nbformat_minor": 2
}
