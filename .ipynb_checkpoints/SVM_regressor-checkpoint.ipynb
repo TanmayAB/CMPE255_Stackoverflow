{
 "cells": [
  {
   "cell_type": "code",
   "execution_count": 2,
   "metadata": {
    "collapsed": true
   },
   "outputs": [],
   "source": [
    "import re\n",
    "import string\n",
    "import pandas as pd\n",
    "import numpy as np\n",
    "import scipy as sp\n",
    "from sklearn.feature_extraction.text import CountVectorizer\n",
    "from sklearn.model_selection import train_test_split\n",
    "from nltk.corpus import stopwords\n",
    "from scipy.sparse import hstack\n",
    "from sklearn.decomposition import TruncatedSVD\n",
    "from sklearn.svm import SVR\n",
    "from collections import Counter\n",
    "from scipy.sparse import csr_matrix\n",
    "import matplotlib.pyplot as plt\n",
    "from math import fabs\n",
    "from sklearn.metrics import f1_score,accuracy_score, mean_squared_error, mean_squared_log_error"
   ]
  },
  {
   "cell_type": "code",
   "execution_count": 3,
   "metadata": {},
   "outputs": [],
   "source": [
    "stop = set(stopwords.words('english'))\n",
    "raw_data = pd.read_csv('./Data/data.csv')"
   ]
  },
  {
   "cell_type": "markdown",
   "metadata": {},
   "source": [
    "#### Preprocessing Question Titles"
   ]
  },
  {
   "cell_type": "code",
   "execution_count": 4,
   "metadata": {
    "collapsed": true
   },
   "outputs": [],
   "source": [
    "#remove punctuations from a string and convert to lower case\n",
    "raw_data['questions_title'] = raw_data['questions_title'].apply(lambda x:''.join([i.lower() for i in x \n",
    "                                                  if i not in string.punctuation]))\n",
    "\n",
    "#remove stop words\n",
    "raw_data['questions_title'] = raw_data['questions_title'].apply(lambda x:' '.join([i for i in x.split(' ') \n",
    "                                                  if i not in stop]))\n",
    "\n",
    "#removing digits\n",
    "raw_data['questions_title'] = raw_data['questions_title'].apply(lambda x:' '.join([i.replace(r'[0-9]+','') for i in x.split(' ') ]))\n",
    "\n",
    "\n",
    "raw_data['questions_title'] = raw_data['questions_title'].apply(lambda x: re.sub(r'\\c\\b', 'clang', x))\n",
    "\n",
    "\n",
    "raw_data['questions_title'] = raw_data['questions_title'].apply(lambda x:x.lstrip())\n",
    "\n",
    "raw_data['questions_title'] = raw_data['questions_title'].apply(lambda x:','.join([i for i in x.split()]))"
   ]
  },
  {
   "cell_type": "markdown",
   "metadata": {},
   "source": [
    "#### Preprocessing Question Tags"
   ]
  },
  {
   "cell_type": "code",
   "execution_count": 5,
   "metadata": {
    "collapsed": true
   },
   "outputs": [],
   "source": [
    "#remove pipe and seperate tags\n",
    "raw_data['questions_tags'] = raw_data['questions_tags'].apply(lambda x:','.join([i.lower() for i in x.split('|')]))\n",
    "raw_data['questions_tags'] = raw_data['questions_tags'].apply(lambda x: re.sub(r'\\c\\b', 'clang', x))"
   ]
  },
  {
   "cell_type": "markdown",
   "metadata": {},
   "source": [
    "#### Vectorize the data"
   ]
  },
  {
   "cell_type": "code",
   "execution_count": 6,
   "metadata": {
    "collapsed": true
   },
   "outputs": [],
   "source": [
    "vectorizer = CountVectorizer()\n",
    "dataset_que_tag = vectorizer.fit_transform(raw_data.questions_tags)\n",
    "dataset_que_title = vectorizer.fit_transform(raw_data.questions_title)\n",
    "train_y = raw_data['time'].tolist()"
   ]
  },
  {
   "cell_type": "code",
   "execution_count": 7,
   "metadata": {
    "collapsed": true
   },
   "outputs": [],
   "source": [
    "train_x = hstack((dataset_que_title, dataset_que_tag))"
   ]
  },
  {
   "cell_type": "code",
   "execution_count": 8,
   "metadata": {},
   "outputs": [
    {
     "name": "stdout",
     "output_type": "stream",
     "text": [
      "(100000, 41129)\n",
      "(100000, 12493)\n",
      "(100000, 53622)\n"
     ]
    }
   ],
   "source": [
    "#print dataset_que_title\n",
    "#print dataset_que_tag\n",
    "#print dataset_x\n",
    "print dataset_que_title.shape\n",
    "print dataset_que_tag.shape\n",
    "print train_x.shape\n",
    "train_x = csr_matrix(train_x)"
   ]
  },
  {
   "cell_type": "markdown",
   "metadata": {},
   "source": [
    "#### Apply Dimensionality reduction"
   ]
  },
  {
   "cell_type": "code",
   "execution_count": 9,
   "metadata": {
    "collapsed": true
   },
   "outputs": [],
   "source": [
    "#svd = TruncatedSVD(n_components=3000)\n",
    "#train_x= svd.fit_transform(train_x)"
   ]
  },
  {
   "cell_type": "code",
   "execution_count": 10,
   "metadata": {
    "collapsed": true
   },
   "outputs": [],
   "source": [
    "#Applying K fold validation\n",
    "#first 1000 train set\n",
    "X_train, X_test1, Y_train, Y_test1 = train_test_split(\n",
    "    train_x, train_y, test_size=1000, random_state=42)\n",
    "#second 1000\n",
    "X_train, X_test2, Y_train, Y_test2 = train_test_split(\n",
    "    X_train, Y_train, test_size=1000, random_state=42)\n",
    "#Third 1000\n",
    "X_train, X_test3, Y_train, Y_test3 = train_test_split(\n",
    "    X_train, Y_train, test_size=1000, random_state=42)\n",
    "#forth 1000\n",
    "X_train, X_test4, Y_train, Y_test4 = train_test_split(\n",
    "    X_train, Y_train, test_size=1000, random_state=42)\n",
    "#fifth 1000\n",
    "X_train, X_test5, Y_train, Y_test5 = train_test_split(\n",
    "    X_train, Y_train, test_size=1000, random_state=42)\n",
    "#six 1000\n",
    "X_train, X_test6, Y_train, Y_test6 = train_test_split(\n",
    "    X_train, Y_train, test_size=1000, random_state=42)\n",
    "#seven 1000\n",
    "X_train, X_test7, Y_train, Y_test7 = train_test_split(\n",
    "    X_train, Y_train, test_size=1000, random_state=42)\n",
    "#eight 1000\n",
    "X_train, X_test8, Y_train, Y_test8 = train_test_split(\n",
    "    X_train, Y_train, test_size=1000, random_state=42)\n",
    "#nine 1000\n",
    "X_train, X_test9, Y_train, Y_test9 = train_test_split(\n",
    "    X_train, Y_train, test_size=1000, random_state=42)\n",
    "#ten 1000\n",
    "X_train, X_test10, Y_train, Y_test10 = train_test_split(\n",
    "    X_train, Y_train, test_size=1000, random_state=42)"
   ]
  },
  {
   "cell_type": "markdown",
   "metadata": {},
   "source": [
    "#### Linear SVM"
   ]
  },
  {
   "cell_type": "code",
   "execution_count": 12,
   "metadata": {
    "collapsed": true
   },
   "outputs": [],
   "source": [
    "var_regressor = SVR(kernel = 'linear')"
   ]
  },
  {
   "cell_type": "code",
   "execution_count": null,
   "metadata": {},
   "outputs": [],
   "source": [
    "var_regressor.fit(X_train,Y_train)"
   ]
  },
  {
   "cell_type": "code",
   "execution_count": 11,
   "metadata": {},
   "outputs": [
    {
     "ename": "NameError",
     "evalue": "name 'var_regressor' is not defined",
     "output_type": "error",
     "traceback": [
      "\u001b[1;31m---------------------------------------------------------------------------\u001b[0m",
      "\u001b[1;31mNameError\u001b[0m                                 Traceback (most recent call last)",
      "\u001b[1;32m<ipython-input-11-a4b496f77516>\u001b[0m in \u001b[0;36m<module>\u001b[1;34m()\u001b[0m\n\u001b[1;32m----> 1\u001b[1;33m \u001b[0mpredict\u001b[0m \u001b[1;33m=\u001b[0m \u001b[0mvar_regressor\u001b[0m\u001b[1;33m.\u001b[0m\u001b[0mpredict\u001b[0m\u001b[1;33m(\u001b[0m\u001b[0mX_test1\u001b[0m\u001b[1;33m)\u001b[0m\u001b[1;33m\u001b[0m\u001b[0m\n\u001b[0m",
      "\u001b[1;31mNameError\u001b[0m: name 'var_regressor' is not defined"
     ]
    }
   ],
   "source": [
    "predict = var_regressor.predict(X_test1)"
   ]
  },
  {
   "cell_type": "code",
   "execution_count": 21,
   "metadata": {
    "collapsed": true
   },
   "outputs": [],
   "source": [
    "fileobj = open('result1.dat','w')\n",
    "fileobj.write(\"actual,predicted\\n\")\n",
    "for ind, r in enumerate(predict) :\n",
    "    fileobj.write(str(Y_test1[ind])+','+str(predict[ind])+'\\n')\n",
    "fileobj.close()"
   ]
  },
  {
   "cell_type": "markdown",
   "metadata": {},
   "source": [
    "#### Evaluation Metric"
   ]
  },
  {
   "cell_type": "code",
   "execution_count": 22,
   "metadata": {},
   "outputs": [
    {
     "name": "stdout",
     "output_type": "stream",
     "text": [
      "Accuracy is  [81.6]\n",
      "Mean Squared Log Error is :  []\n"
     ]
    }
   ],
   "source": [
    "def calc_accuracy(actual,predicted):\n",
    "    tc = 0\n",
    "    for ind in range(len(actual)):\n",
    "        if abs(fabs(actual[ind])-fabs(predicted[ind])) <= 36000:\n",
    "            tc = tc + 1\n",
    "    return float(tc)*100/len(actual)\n",
    "\n",
    "\n",
    "accuracies = []\n",
    "msle = []\n",
    "raw_data = pd.read_csv('result1.dat')\n",
    "calc = calc_accuracy(raw_data.actual,raw_data.predicted)\n",
    "#mean_squared_log_error (raw_data.actual,raw_data.actual)    \n",
    "#msle.append(mean_squared_log_error (raw_data.actual,raw_data.predicted.abs()))\n",
    "accuracies.append (calc)\n",
    "print \"Accuracy is \",\n",
    "print accuracies\n",
    "print \"Mean Squared Log Error is : \",\n",
    "print msle"
   ]
  },
  {
   "cell_type": "code",
   "execution_count": null,
   "metadata": {
    "collapsed": true
   },
   "outputs": [],
   "source": []
  }
 ],
 "metadata": {
  "kernelspec": {
   "display_name": "Python 2",
   "language": "python",
   "name": "python2"
  },
  "language_info": {
   "codemirror_mode": {
    "name": "ipython",
    "version": 2
   },
   "file_extension": ".py",
   "mimetype": "text/x-python",
   "name": "python",
   "nbconvert_exporter": "python",
   "pygments_lexer": "ipython2",
   "version": "2.7.14"
  }
 },
 "nbformat": 4,
 "nbformat_minor": 2
}
