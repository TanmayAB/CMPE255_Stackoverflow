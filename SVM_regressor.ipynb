{
 "cells": [
  {
   "cell_type": "code",
   "execution_count": 11,
   "metadata": {
    "collapsed": true
   },
   "outputs": [],
   "source": [
    "import re\n",
    "import string\n",
    "import pandas as pd\n",
    "import numpy as np\n",
    "import scipy as sp\n",
    "from sklearn.feature_extraction.text import CountVectorizer\n",
    "from sklearn.model_selection import train_test_split\n",
    "from nltk.corpus import stopwords\n",
    "from scipy.sparse import hstack\n",
    "from sklearn.decomposition import TruncatedSVD\n",
    "from sklearn.svm import SVR\n",
    "from collections import Counter\n",
    "from scipy.sparse import csr_matrix"
   ]
  },
  {
   "cell_type": "code",
   "execution_count": 12,
   "metadata": {
    "collapsed": true
   },
   "outputs": [],
   "source": [
    "stop = set(stopwords.words('english'))\n",
    "raw_data = pd.read_csv('StackOverflow200thou.csv')"
   ]
  },
  {
   "cell_type": "markdown",
   "metadata": {},
   "source": [
    "#### Preprocessing Question Titles"
   ]
  },
  {
   "cell_type": "code",
   "execution_count": 13,
   "metadata": {
    "collapsed": true
   },
   "outputs": [],
   "source": [
    "#remove punctuations from a string and convert to lower case\n",
    "raw_data['questions_title'] = raw_data['questions_title'].apply(lambda x:''.join([i.lower() for i in x \n",
    "                                                  if i not in string.punctuation]))\n",
    "\n",
    "#remove stop words\n",
    "raw_data['questions_title'] = raw_data['questions_title'].apply(lambda x:' '.join([i for i in x.split(' ') \n",
    "                                                  if i not in stop]))\n",
    "\n",
    "#removing digits\n",
    "raw_data['questions_title'] = raw_data['questions_title'].apply(lambda x:' '.join([i.replace(r'[0-9]+','') for i in x.split(' ') ]))\n",
    "\n",
    "\n",
    "raw_data['questions_title'] = raw_data['questions_title'].apply(lambda x: re.sub(r'\\c\\b', 'clang', x))\n",
    "\n",
    "\n",
    "raw_data['questions_title'] = raw_data['questions_title'].apply(lambda x:x.lstrip())\n",
    "\n",
    "raw_data['questions_title'] = raw_data['questions_title'].apply(lambda x:','.join([i for i in x.split()]))"
   ]
  },
  {
   "cell_type": "markdown",
   "metadata": {},
   "source": [
    "#### Preprocessing Question Tags"
   ]
  },
  {
   "cell_type": "code",
   "execution_count": 14,
   "metadata": {
    "collapsed": true
   },
   "outputs": [],
   "source": [
    "#remove pipe and seperate tags\n",
    "raw_data['questions_tags'] = raw_data['questions_tags'].apply(lambda x:','.join([i.lower() for i in x.split('|')]))\n",
    "raw_data['questions_tags'] = raw_data['questions_tags'].apply(lambda x: re.sub(r'\\c\\b', 'clang', x))"
   ]
  },
  {
   "cell_type": "code",
   "execution_count": 15,
   "metadata": {
    "collapsed": true
   },
   "outputs": [],
   "source": [
    "#print raw_data.questions_tags\n",
    "#print raw_data.questions_title"
   ]
  },
  {
   "cell_type": "markdown",
   "metadata": {},
   "source": [
    "#### Vectorize the data"
   ]
  },
  {
   "cell_type": "code",
   "execution_count": 16,
   "metadata": {
    "collapsed": true
   },
   "outputs": [],
   "source": [
    "vectorizer = CountVectorizer()\n",
    "dataset_que_tag = vectorizer.fit_transform(raw_data.questions_tags)\n",
    "dataset_que_title = vectorizer.fit_transform(raw_data.questions_title)\n",
    "train_y = raw_data['time'].tolist()"
   ]
  },
  {
   "cell_type": "code",
   "execution_count": 17,
   "metadata": {
    "collapsed": true
   },
   "outputs": [],
   "source": [
    "train_x = hstack((dataset_que_title, dataset_que_tag))"
   ]
  },
  {
   "cell_type": "code",
   "execution_count": 18,
   "metadata": {},
   "outputs": [
    {
     "name": "stdout",
     "output_type": "stream",
     "text": [
      "(150000, 53264)\n",
      "(150000, 14403)\n",
      "(150000, 67667)\n"
     ]
    }
   ],
   "source": [
    "#print dataset_que_title\n",
    "#print dataset_que_tag\n",
    "#print dataset_x\n",
    "print dataset_que_title.shape\n",
    "print dataset_que_tag.shape\n",
    "print train_x.shape\n",
    "train_x = csr_matrix(train_x)"
   ]
  },
  {
   "cell_type": "markdown",
   "metadata": {},
   "source": [
    "#### Apply Dimensionality reduction"
   ]
  },
  {
   "cell_type": "code",
   "execution_count": null,
   "metadata": {
    "collapsed": true
   },
   "outputs": [],
   "source": [
    "#svd = TruncatedSVD(n_components=3000)\n",
    "#train_x= svd.fit_transform(train_x)"
   ]
  },
  {
   "cell_type": "code",
   "execution_count": 19,
   "metadata": {
    "collapsed": true
   },
   "outputs": [],
   "source": [
    "#first 1000 train set\n",
    "X_train, X_test1, Y_train, Y_test1 = train_test_split(\n",
    "    train_x, train_y, test_size=1000, random_state=42)\n",
    "#second 1000\n",
    "X_train, X_test2, Y_train, Y_test2 = train_test_split(\n",
    "    X_train, Y_train, test_size=1000, random_state=42)\n",
    "#Third 1000\n",
    "X_train, X_test3, Y_train, Y_test3 = train_test_split(\n",
    "    X_train, Y_train, test_size=1000, random_state=42)\n",
    "#forth 1000\n",
    "X_train, X_test4, Y_train, Y_test4 = train_test_split(\n",
    "    X_train, Y_train, test_size=1000, random_state=42)\n",
    "#fifth 1000\n",
    "X_train, X_test5, Y_train, Y_test5 = train_test_split(\n",
    "    X_train, Y_train, test_size=1000, random_state=42)\n",
    "#six 1000\n",
    "X_train, X_test6, Y_train, Y_test6 = train_test_split(\n",
    "    X_train, Y_train, test_size=1000, random_state=42)\n",
    "#seven 1000\n",
    "X_train, X_test7, Y_train, Y_test7 = train_test_split(\n",
    "    X_train, Y_train, test_size=1000, random_state=42)\n",
    "#eight 1000\n",
    "X_train, X_test8, Y_train, Y_test8 = train_test_split(\n",
    "    X_train, Y_train, test_size=1000, random_state=42)\n",
    "#nine 1000\n",
    "X_train, X_test9, Y_train, Y_test9 = train_test_split(\n",
    "    X_train, Y_train, test_size=1000, random_state=42)\n",
    "#ten 1000\n",
    "X_train, X_test10, Y_train, Y_test10 = train_test_split(\n",
    "    X_train, Y_train, test_size=1000, random_state=42)"
   ]
  },
  {
   "cell_type": "markdown",
   "metadata": {},
   "source": [
    "#### Linear SVM"
   ]
  },
  {
   "cell_type": "code",
   "execution_count": 20,
   "metadata": {
    "collapsed": true
   },
   "outputs": [],
   "source": [
    "var_regressor = SVR(kernel = 'linear')"
   ]
  },
  {
   "cell_type": "code",
   "execution_count": 27,
   "metadata": {},
   "outputs": [
    {
     "data": {
      "text/plain": [
       "SVR(C=1.0, cache_size=200, coef0=0.0, degree=3, epsilon=0.1, gamma='auto',\n",
       "  kernel='linear', max_iter=-1, shrinking=True, tol=0.001, verbose=False)"
      ]
     },
     "execution_count": 27,
     "metadata": {},
     "output_type": "execute_result"
    }
   ],
   "source": [
    "var_regressor.fit(X_train,Y_train)"
   ]
  },
  {
   "cell_type": "code",
   "execution_count": 47,
   "metadata": {
    "collapsed": true
   },
   "outputs": [],
   "source": [
    "predict = var_regressor.predict(X_test10)"
   ]
  },
  {
   "cell_type": "code",
   "execution_count": 48,
   "metadata": {
    "collapsed": true
   },
   "outputs": [],
   "source": [
    "#print (\"Actual\")\n",
    "#print(Y_test)\n",
    "#print (\"Predicted\")\n",
    "#print(predict)\n",
    "fileobj = open('result10.dat','w')\n",
    "fileobj.write(\"actual,predicted\\n\")\n",
    "for ind, r in enumerate(predict) :\n",
    "    fileobj.write(str(Y_test10[ind])+','+str(predict[ind])+'\\n')\n",
    "fileobj.close()\n",
    "    "
   ]
  },
  {
   "cell_type": "code",
   "execution_count": null,
   "metadata": {
    "collapsed": true
   },
   "outputs": [],
   "source": []
  }
 ],
 "metadata": {
  "kernelspec": {
   "display_name": "Python 2",
   "language": "python",
   "name": "python2"
  },
  "language_info": {
   "codemirror_mode": {
    "name": "ipython",
    "version": 2
   },
   "file_extension": ".py",
   "mimetype": "text/x-python",
   "name": "python",
   "nbconvert_exporter": "python",
   "pygments_lexer": "ipython2",
   "version": "2.7.13"
  }
 },
 "nbformat": 4,
 "nbformat_minor": 2
}
